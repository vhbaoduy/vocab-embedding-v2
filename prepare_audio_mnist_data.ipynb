{
 "cells": [
  {
   "cell_type": "code",
   "execution_count": 46,
   "metadata": {},
   "outputs": [],
   "source": [
    "import pandas as pd\n",
    "import os\n",
    "import json\n",
    "import random\n",
    "import numpy as np"
   ]
  },
  {
   "cell_type": "code",
   "execution_count": 47,
   "metadata": {},
   "outputs": [],
   "source": [
    "info = json.load(open('./meta_data/info.json'))"
   ]
  },
  {
   "cell_type": "code",
   "execution_count": 48,
   "metadata": {},
   "outputs": [
    {
     "data": {
      "text/html": [
       "<div>\n",
       "<style scoped>\n",
       "    .dataframe tbody tr th:only-of-type {\n",
       "        vertical-align: middle;\n",
       "    }\n",
       "\n",
       "    .dataframe tbody tr th {\n",
       "        vertical-align: top;\n",
       "    }\n",
       "\n",
       "    .dataframe thead th {\n",
       "        text-align: right;\n",
       "    }\n",
       "</style>\n",
       "<table border=\"1\" class=\"dataframe\">\n",
       "  <thead>\n",
       "    <tr style=\"text-align: right;\">\n",
       "      <th></th>\n",
       "      <th>file</th>\n",
       "      <th>word</th>\n",
       "      <th>speaker</th>\n",
       "      <th>gender</th>\n",
       "    </tr>\n",
       "  </thead>\n",
       "  <tbody>\n",
       "    <tr>\n",
       "      <th>0</th>\n",
       "      <td>01/0_01_33.wav</td>\n",
       "      <td>0</td>\n",
       "      <td>01</td>\n",
       "      <td>male</td>\n",
       "    </tr>\n",
       "    <tr>\n",
       "      <th>1</th>\n",
       "      <td>01/2_01_20.wav</td>\n",
       "      <td>2</td>\n",
       "      <td>01</td>\n",
       "      <td>male</td>\n",
       "    </tr>\n",
       "    <tr>\n",
       "      <th>2</th>\n",
       "      <td>01/4_01_31.wav</td>\n",
       "      <td>4</td>\n",
       "      <td>01</td>\n",
       "      <td>male</td>\n",
       "    </tr>\n",
       "    <tr>\n",
       "      <th>3</th>\n",
       "      <td>01/1_01_37.wav</td>\n",
       "      <td>1</td>\n",
       "      <td>01</td>\n",
       "      <td>male</td>\n",
       "    </tr>\n",
       "    <tr>\n",
       "      <th>4</th>\n",
       "      <td>01/8_01_14.wav</td>\n",
       "      <td>8</td>\n",
       "      <td>01</td>\n",
       "      <td>male</td>\n",
       "    </tr>\n",
       "    <tr>\n",
       "      <th>...</th>\n",
       "      <td>...</td>\n",
       "      <td>...</td>\n",
       "      <td>...</td>\n",
       "      <td>...</td>\n",
       "    </tr>\n",
       "    <tr>\n",
       "      <th>29995</th>\n",
       "      <td>60/3_60_12.wav</td>\n",
       "      <td>3</td>\n",
       "      <td>60</td>\n",
       "      <td>female</td>\n",
       "    </tr>\n",
       "    <tr>\n",
       "      <th>29996</th>\n",
       "      <td>60/6_60_18.wav</td>\n",
       "      <td>6</td>\n",
       "      <td>60</td>\n",
       "      <td>female</td>\n",
       "    </tr>\n",
       "    <tr>\n",
       "      <th>29997</th>\n",
       "      <td>60/3_60_41.wav</td>\n",
       "      <td>3</td>\n",
       "      <td>60</td>\n",
       "      <td>female</td>\n",
       "    </tr>\n",
       "    <tr>\n",
       "      <th>29998</th>\n",
       "      <td>60/9_60_16.wav</td>\n",
       "      <td>9</td>\n",
       "      <td>60</td>\n",
       "      <td>female</td>\n",
       "    </tr>\n",
       "    <tr>\n",
       "      <th>29999</th>\n",
       "      <td>60/1_60_44.wav</td>\n",
       "      <td>1</td>\n",
       "      <td>60</td>\n",
       "      <td>female</td>\n",
       "    </tr>\n",
       "  </tbody>\n",
       "</table>\n",
       "<p>30000 rows × 4 columns</p>\n",
       "</div>"
      ],
      "text/plain": [
       "                 file  word speaker  gender\n",
       "0      01/0_01_33.wav     0      01    male\n",
       "1      01/2_01_20.wav     2      01    male\n",
       "2      01/4_01_31.wav     4      01    male\n",
       "3      01/1_01_37.wav     1      01    male\n",
       "4      01/8_01_14.wav     8      01    male\n",
       "...               ...   ...     ...     ...\n",
       "29995  60/3_60_12.wav     3      60  female\n",
       "29996  60/6_60_18.wav     6      60  female\n",
       "29997  60/3_60_41.wav     3      60  female\n",
       "29998  60/9_60_16.wav     9      60  female\n",
       "29999  60/1_60_44.wav     1      60  female\n",
       "\n",
       "[30000 rows x 4 columns]"
      ]
     },
     "execution_count": 48,
     "metadata": {},
     "output_type": "execute_result"
    }
   ],
   "source": [
    "df = pd.read_csv('./meta_data/audio_mnist.csv')\n",
    "df['speaker'] = df['speaker'].map(lambda x: str(x) if int(x) >= 10 else \"0\" + str(x))\n",
    "df"
   ]
  },
  {
   "cell_type": "code",
   "execution_count": 49,
   "metadata": {},
   "outputs": [],
   "source": [
    "splitting = {\n",
    "    'train': 2/3,\n",
    "    'valid': 1/6,\n",
    "    'test': 1/6\n",
    "}\n",
    "random.seed(2023)\n",
    "np.random.seed(2023)"
   ]
  },
  {
   "cell_type": "code",
   "execution_count": 50,
   "metadata": {},
   "outputs": [],
   "source": [
    "male_speakers = info['male_speakers']\n",
    "np.random.shuffle(male_speakers)\n",
    "female_speakers = info['female_speakers']\n",
    "np.random.shuffle(female_speakers)"
   ]
  },
  {
   "cell_type": "code",
   "execution_count": 51,
   "metadata": {},
   "outputs": [
    {
     "data": {
      "text/plain": [
       "48"
      ]
     },
     "execution_count": 51,
     "metadata": {},
     "output_type": "execute_result"
    }
   ],
   "source": [
    "len(male_speakers)"
   ]
  },
  {
   "cell_type": "code",
   "execution_count": 52,
   "metadata": {},
   "outputs": [
    {
     "name": "stdout",
     "output_type": "stream",
     "text": [
      "Train: 32 Valid: 8 Test: 8\n"
     ]
    }
   ],
   "source": [
    "idx_train = int(splitting['train'] * len(male_speakers))\n",
    "idx_valid = int(splitting['valid'] * len(male_speakers))\n",
    "idx_test = len(male_speakers) - idx_train - idx_valid\n",
    "print('Train: %s Valid: %s Test: %s' %(idx_train, idx_valid, idx_test))"
   ]
  },
  {
   "cell_type": "code",
   "execution_count": 53,
   "metadata": {},
   "outputs": [],
   "source": [
    "male_info = {}\n",
    "male_info['train'] = male_speakers[:idx_train]\n",
    "male_info['val'] = male_speakers[idx_train: idx_train + idx_valid]\n",
    "male_info['test'] = male_speakers[idx_train + idx_valid:]\n",
    "json.dump(male_info, open('meta_data/male_split.json', 'w'))"
   ]
  },
  {
   "cell_type": "code",
   "execution_count": 54,
   "metadata": {},
   "outputs": [
    {
     "name": "stdout",
     "output_type": "stream",
     "text": [
      "train 16000\n",
      "val 4000\n",
      "test 4000\n"
     ]
    }
   ],
   "source": [
    "for phase in male_info.keys():\n",
    "    data = df[df['speaker'].isin(male_info[phase])]\n",
    "    print(phase, len(data))\n",
    "    data.to_csv('./meta_data/male/%s.csv'%(phase), index=False) "
   ]
  },
  {
   "cell_type": "code",
   "execution_count": 55,
   "metadata": {},
   "outputs": [
    {
     "name": "stdout",
     "output_type": "stream",
     "text": [
      "Train: 8 Valid: 2 Test: 2\n"
     ]
    }
   ],
   "source": [
    "idx_train = int(splitting['train'] * len(female_speakers))\n",
    "idx_valid = int(splitting['valid'] * len(female_speakers))\n",
    "idx_test = int(len(female_speakers) - idx_train - idx_valid)\n",
    "print('Train: %s Valid: %s Test: %s' %(idx_train, idx_valid, idx_test))"
   ]
  },
  {
   "cell_type": "code",
   "execution_count": 56,
   "metadata": {},
   "outputs": [],
   "source": [
    "female_info = {}\n",
    "female_info['train'] = female_speakers[:idx_train]\n",
    "female_info['val'] = female_speakers[idx_train: idx_train + idx_valid]\n",
    "female_info['test'] = female_speakers[idx_train + idx_valid:]\n",
    "json.dump(female_info, open('meta_data/female_split.json', 'w'))"
   ]
  },
  {
   "cell_type": "code",
   "execution_count": 57,
   "metadata": {},
   "outputs": [
    {
     "name": "stdout",
     "output_type": "stream",
     "text": [
      "train 4000\n",
      "val 1000\n",
      "test 1000\n"
     ]
    }
   ],
   "source": [
    "for phase in female_info.keys():\n",
    "    data = df[df['speaker'].isin(female_info[phase])]\n",
    "    print(phase, len(data))\n",
    "    data.to_csv('./meta_data/female/%s.csv'%(phase), index=False) "
   ]
  },
  {
   "cell_type": "code",
   "execution_count": null,
   "metadata": {},
   "outputs": [],
   "source": []
  }
 ],
 "metadata": {
  "kernelspec": {
   "display_name": "speaker-verification",
   "language": "python",
   "name": "python3"
  },
  "language_info": {
   "codemirror_mode": {
    "name": "ipython",
    "version": 3
   },
   "file_extension": ".py",
   "mimetype": "text/x-python",
   "name": "python",
   "nbconvert_exporter": "python",
   "pygments_lexer": "ipython3",
   "version": "3.8.15"
  },
  "orig_nbformat": 4,
  "vscode": {
   "interpreter": {
    "hash": "edbb45d4957cf311985aa67ba05d6e5e146bc035c1a213edade3cc74e66c8d90"
   }
  }
 },
 "nbformat": 4,
 "nbformat_minor": 2
}
